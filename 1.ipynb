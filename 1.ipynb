{
  "nbformat": 4,
  "nbformat_minor": 0,
  "metadata": {
    "colab": {
      "name": "1.ipynb",
      "provenance": [],
      "collapsed_sections": [],
      "authorship_tag": "ABX9TyMuoIt05B9O4NoMMaif5fnE",
      "include_colab_link": true
    },
    "kernelspec": {
      "name": "python3",
      "display_name": "Python 3"
    },
    "language_info": {
      "name": "python"
    },
    "widgets": {
      "application/vnd.jupyter.widget-state+json": {
        "af6d10b7da1b44edb79a26dee439a216": {
          "model_module": "@jupyter-widgets/controls",
          "model_name": "VBoxModel",
          "model_module_version": "1.5.0",
          "state": {
            "_view_name": "VBoxView",
            "_dom_classes": [
              "widget-interact"
            ],
            "_model_name": "VBoxModel",
            "_view_module": "@jupyter-widgets/controls",
            "_model_module_version": "1.5.0",
            "_view_count": null,
            "_view_module_version": "1.5.0",
            "box_style": "",
            "layout": "IPY_MODEL_32eacf49b8fe41338c646644d9f7d4ac",
            "_model_module": "@jupyter-widgets/controls",
            "children": [
              "IPY_MODEL_fe96ad843f9740d7a774a0874322e796",
              "IPY_MODEL_c96ebe87fe874e71b891c157f4320faa"
            ]
          }
        },
        "32eacf49b8fe41338c646644d9f7d4ac": {
          "model_module": "@jupyter-widgets/base",
          "model_name": "LayoutModel",
          "model_module_version": "1.2.0",
          "state": {
            "_view_name": "LayoutView",
            "grid_template_rows": null,
            "right": null,
            "justify_content": null,
            "_view_module": "@jupyter-widgets/base",
            "overflow": null,
            "_model_module_version": "1.2.0",
            "_view_count": null,
            "flex_flow": null,
            "width": null,
            "min_width": null,
            "border": null,
            "align_items": null,
            "bottom": null,
            "_model_module": "@jupyter-widgets/base",
            "top": null,
            "grid_column": null,
            "overflow_y": null,
            "overflow_x": null,
            "grid_auto_flow": null,
            "grid_area": null,
            "grid_template_columns": null,
            "flex": null,
            "_model_name": "LayoutModel",
            "justify_items": null,
            "grid_row": null,
            "max_height": null,
            "align_content": null,
            "visibility": null,
            "align_self": null,
            "height": null,
            "min_height": null,
            "padding": null,
            "grid_auto_rows": null,
            "grid_gap": null,
            "max_width": null,
            "order": null,
            "_view_module_version": "1.2.0",
            "grid_template_areas": null,
            "object_position": null,
            "object_fit": null,
            "grid_auto_columns": null,
            "margin": null,
            "display": null,
            "left": null
          }
        },
        "fe96ad843f9740d7a774a0874322e796": {
          "model_module": "@jupyter-widgets/controls",
          "model_name": "IntSliderModel",
          "model_module_version": "1.5.0",
          "state": {
            "_view_name": "IntSliderView",
            "style": "IPY_MODEL_537723cd305c4092b1a0e455fb3ae51a",
            "_dom_classes": [],
            "description": "k: ",
            "step": 1,
            "_model_name": "IntSliderModel",
            "orientation": "horizontal",
            "max": 20,
            "_view_module": "@jupyter-widgets/controls",
            "_model_module_version": "1.5.0",
            "value": 16,
            "_view_count": null,
            "disabled": false,
            "_view_module_version": "1.5.0",
            "min": 1,
            "continuous_update": false,
            "readout_format": "d",
            "description_tooltip": null,
            "readout": true,
            "_model_module": "@jupyter-widgets/controls",
            "layout": "IPY_MODEL_5793d27382cb493290adc2f1362bd380"
          }
        },
        "c96ebe87fe874e71b891c157f4320faa": {
          "model_module": "@jupyter-widgets/output",
          "model_name": "OutputModel",
          "model_module_version": "1.0.0",
          "state": {
            "_view_name": "OutputView",
            "msg_id": "",
            "_dom_classes": [],
            "_model_name": "OutputModel",
            "outputs": [
              {
                "output_type": "display_data",
                "data": {
                  "image/png": "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\n",
                  "text/plain": "<Figure size 576x288 with 1 Axes>"
                },
                "metadata": {
                  "needs_background": "light"
                }
              }
            ],
            "_view_module": "@jupyter-widgets/output",
            "_model_module_version": "1.0.0",
            "_view_count": null,
            "_view_module_version": "1.0.0",
            "layout": "IPY_MODEL_b436cb8294cd4a42be0f26834b582eb7",
            "_model_module": "@jupyter-widgets/output"
          }
        },
        "537723cd305c4092b1a0e455fb3ae51a": {
          "model_module": "@jupyter-widgets/controls",
          "model_name": "SliderStyleModel",
          "model_module_version": "1.5.0",
          "state": {
            "_view_name": "StyleView",
            "handle_color": null,
            "_model_name": "SliderStyleModel",
            "description_width": "",
            "_view_module": "@jupyter-widgets/base",
            "_model_module_version": "1.5.0",
            "_view_count": null,
            "_view_module_version": "1.2.0",
            "_model_module": "@jupyter-widgets/controls"
          }
        },
        "5793d27382cb493290adc2f1362bd380": {
          "model_module": "@jupyter-widgets/base",
          "model_name": "LayoutModel",
          "model_module_version": "1.2.0",
          "state": {
            "_view_name": "LayoutView",
            "grid_template_rows": null,
            "right": null,
            "justify_content": null,
            "_view_module": "@jupyter-widgets/base",
            "overflow": null,
            "_model_module_version": "1.2.0",
            "_view_count": null,
            "flex_flow": null,
            "width": null,
            "min_width": null,
            "border": null,
            "align_items": null,
            "bottom": null,
            "_model_module": "@jupyter-widgets/base",
            "top": null,
            "grid_column": null,
            "overflow_y": null,
            "overflow_x": null,
            "grid_auto_flow": null,
            "grid_area": null,
            "grid_template_columns": null,
            "flex": null,
            "_model_name": "LayoutModel",
            "justify_items": null,
            "grid_row": null,
            "max_height": null,
            "align_content": null,
            "visibility": null,
            "align_self": null,
            "height": null,
            "min_height": null,
            "padding": null,
            "grid_auto_rows": null,
            "grid_gap": null,
            "max_width": null,
            "order": null,
            "_view_module_version": "1.2.0",
            "grid_template_areas": null,
            "object_position": null,
            "object_fit": null,
            "grid_auto_columns": null,
            "margin": null,
            "display": null,
            "left": null
          }
        },
        "b436cb8294cd4a42be0f26834b582eb7": {
          "model_module": "@jupyter-widgets/base",
          "model_name": "LayoutModel",
          "model_module_version": "1.2.0",
          "state": {
            "_view_name": "LayoutView",
            "grid_template_rows": null,
            "right": null,
            "justify_content": null,
            "_view_module": "@jupyter-widgets/base",
            "overflow": null,
            "_model_module_version": "1.2.0",
            "_view_count": null,
            "flex_flow": null,
            "width": null,
            "min_width": null,
            "border": null,
            "align_items": null,
            "bottom": null,
            "_model_module": "@jupyter-widgets/base",
            "top": null,
            "grid_column": null,
            "overflow_y": null,
            "overflow_x": null,
            "grid_auto_flow": null,
            "grid_area": null,
            "grid_template_columns": null,
            "flex": null,
            "_model_name": "LayoutModel",
            "justify_items": null,
            "grid_row": null,
            "max_height": null,
            "align_content": null,
            "visibility": null,
            "align_self": null,
            "height": null,
            "min_height": null,
            "padding": null,
            "grid_auto_rows": null,
            "grid_gap": null,
            "max_width": null,
            "order": null,
            "_view_module_version": "1.2.0",
            "grid_template_areas": null,
            "object_position": null,
            "object_fit": null,
            "grid_auto_columns": null,
            "margin": null,
            "display": null,
            "left": null
          }
        },
        "09b0dc9dcbc54c228fd08519e1ec516a": {
          "model_module": "@jupyter-widgets/controls",
          "model_name": "VBoxModel",
          "model_module_version": "1.5.0",
          "state": {
            "_view_name": "VBoxView",
            "_dom_classes": [
              "widget-interact"
            ],
            "_model_name": "VBoxModel",
            "_view_module": "@jupyter-widgets/controls",
            "_model_module_version": "1.5.0",
            "_view_count": null,
            "_view_module_version": "1.5.0",
            "box_style": "",
            "layout": "IPY_MODEL_74629361c83047ae80004d9c3a1de0e4",
            "_model_module": "@jupyter-widgets/controls",
            "children": [
              "IPY_MODEL_4a012df93a00491f99d4303548128f0d",
              "IPY_MODEL_ec41ce5649344b288a464a8a8075f893"
            ]
          }
        },
        "74629361c83047ae80004d9c3a1de0e4": {
          "model_module": "@jupyter-widgets/base",
          "model_name": "LayoutModel",
          "model_module_version": "1.2.0",
          "state": {
            "_view_name": "LayoutView",
            "grid_template_rows": null,
            "right": null,
            "justify_content": null,
            "_view_module": "@jupyter-widgets/base",
            "overflow": null,
            "_model_module_version": "1.2.0",
            "_view_count": null,
            "flex_flow": null,
            "width": null,
            "min_width": null,
            "border": null,
            "align_items": null,
            "bottom": null,
            "_model_module": "@jupyter-widgets/base",
            "top": null,
            "grid_column": null,
            "overflow_y": null,
            "overflow_x": null,
            "grid_auto_flow": null,
            "grid_area": null,
            "grid_template_columns": null,
            "flex": null,
            "_model_name": "LayoutModel",
            "justify_items": null,
            "grid_row": null,
            "max_height": null,
            "align_content": null,
            "visibility": null,
            "align_self": null,
            "height": null,
            "min_height": null,
            "padding": null,
            "grid_auto_rows": null,
            "grid_gap": null,
            "max_width": null,
            "order": null,
            "_view_module_version": "1.2.0",
            "grid_template_areas": null,
            "object_position": null,
            "object_fit": null,
            "grid_auto_columns": null,
            "margin": null,
            "display": null,
            "left": null
          }
        },
        "4a012df93a00491f99d4303548128f0d": {
          "model_module": "@jupyter-widgets/controls",
          "model_name": "IntSliderModel",
          "model_module_version": "1.5.0",
          "state": {
            "_view_name": "IntSliderView",
            "style": "IPY_MODEL_ebb7e44253b5460782f02d0b14bb4c6d",
            "_dom_classes": [],
            "description": "n: ",
            "step": 1,
            "_model_name": "IntSliderModel",
            "orientation": "horizontal",
            "max": 5,
            "_view_module": "@jupyter-widgets/controls",
            "_model_module_version": "1.5.0",
            "value": 5,
            "_view_count": null,
            "disabled": false,
            "_view_module_version": "1.5.0",
            "min": 1,
            "continuous_update": false,
            "readout_format": "d",
            "description_tooltip": null,
            "readout": true,
            "_model_module": "@jupyter-widgets/controls",
            "layout": "IPY_MODEL_8c835b5c74b74e8e82fe04fdb06da66b"
          }
        },
        "ec41ce5649344b288a464a8a8075f893": {
          "model_module": "@jupyter-widgets/output",
          "model_name": "OutputModel",
          "model_module_version": "1.0.0",
          "state": {
            "_view_name": "OutputView",
            "msg_id": "",
            "_dom_classes": [],
            "_model_name": "OutputModel",
            "outputs": [
              {
                "output_type": "display_data",
                "data": {
                  "image/png": "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\n",
                  "text/plain": "<Figure size 576x432 with 2 Axes>"
                },
                "metadata": {
                  "needs_background": "light"
                }
              }
            ],
            "_view_module": "@jupyter-widgets/output",
            "_model_module_version": "1.0.0",
            "_view_count": null,
            "_view_module_version": "1.0.0",
            "layout": "IPY_MODEL_adb022fcd1ff4b488ec96e2ba324a6c2",
            "_model_module": "@jupyter-widgets/output"
          }
        },
        "ebb7e44253b5460782f02d0b14bb4c6d": {
          "model_module": "@jupyter-widgets/controls",
          "model_name": "SliderStyleModel",
          "model_module_version": "1.5.0",
          "state": {
            "_view_name": "StyleView",
            "handle_color": null,
            "_model_name": "SliderStyleModel",
            "description_width": "",
            "_view_module": "@jupyter-widgets/base",
            "_model_module_version": "1.5.0",
            "_view_count": null,
            "_view_module_version": "1.2.0",
            "_model_module": "@jupyter-widgets/controls"
          }
        },
        "8c835b5c74b74e8e82fe04fdb06da66b": {
          "model_module": "@jupyter-widgets/base",
          "model_name": "LayoutModel",
          "model_module_version": "1.2.0",
          "state": {
            "_view_name": "LayoutView",
            "grid_template_rows": null,
            "right": null,
            "justify_content": null,
            "_view_module": "@jupyter-widgets/base",
            "overflow": null,
            "_model_module_version": "1.2.0",
            "_view_count": null,
            "flex_flow": null,
            "width": null,
            "min_width": null,
            "border": null,
            "align_items": null,
            "bottom": null,
            "_model_module": "@jupyter-widgets/base",
            "top": null,
            "grid_column": null,
            "overflow_y": null,
            "overflow_x": null,
            "grid_auto_flow": null,
            "grid_area": null,
            "grid_template_columns": null,
            "flex": null,
            "_model_name": "LayoutModel",
            "justify_items": null,
            "grid_row": null,
            "max_height": null,
            "align_content": null,
            "visibility": null,
            "align_self": null,
            "height": null,
            "min_height": null,
            "padding": null,
            "grid_auto_rows": null,
            "grid_gap": null,
            "max_width": null,
            "order": null,
            "_view_module_version": "1.2.0",
            "grid_template_areas": null,
            "object_position": null,
            "object_fit": null,
            "grid_auto_columns": null,
            "margin": null,
            "display": null,
            "left": null
          }
        },
        "adb022fcd1ff4b488ec96e2ba324a6c2": {
          "model_module": "@jupyter-widgets/base",
          "model_name": "LayoutModel",
          "model_module_version": "1.2.0",
          "state": {
            "_view_name": "LayoutView",
            "grid_template_rows": null,
            "right": null,
            "justify_content": null,
            "_view_module": "@jupyter-widgets/base",
            "overflow": null,
            "_model_module_version": "1.2.0",
            "_view_count": null,
            "flex_flow": null,
            "width": null,
            "min_width": null,
            "border": null,
            "align_items": null,
            "bottom": null,
            "_model_module": "@jupyter-widgets/base",
            "top": null,
            "grid_column": null,
            "overflow_y": null,
            "overflow_x": null,
            "grid_auto_flow": null,
            "grid_area": null,
            "grid_template_columns": null,
            "flex": null,
            "_model_name": "LayoutModel",
            "justify_items": null,
            "grid_row": null,
            "max_height": null,
            "align_content": null,
            "visibility": null,
            "align_self": null,
            "height": null,
            "min_height": null,
            "padding": null,
            "grid_auto_rows": null,
            "grid_gap": null,
            "max_width": null,
            "order": null,
            "_view_module_version": "1.2.0",
            "grid_template_areas": null,
            "object_position": null,
            "object_fit": null,
            "grid_auto_columns": null,
            "margin": null,
            "display": null,
            "left": null
          }
        },
        "792f490700fd480cb060f6a9f1ddd4aa": {
          "model_module": "@jupyter-widgets/controls",
          "model_name": "VBoxModel",
          "model_module_version": "1.5.0",
          "state": {
            "_view_name": "VBoxView",
            "_dom_classes": [
              "widget-interact"
            ],
            "_model_name": "VBoxModel",
            "_view_module": "@jupyter-widgets/controls",
            "_model_module_version": "1.5.0",
            "_view_count": null,
            "_view_module_version": "1.5.0",
            "box_style": "",
            "layout": "IPY_MODEL_77c825f0e47248b7b061b210e5b51f4d",
            "_model_module": "@jupyter-widgets/controls",
            "children": [
              "IPY_MODEL_f36de0a9ddb44119a935491984dd272e",
              "IPY_MODEL_2726b8408c6140a3873d3563dc95b007"
            ]
          }
        },
        "77c825f0e47248b7b061b210e5b51f4d": {
          "model_module": "@jupyter-widgets/base",
          "model_name": "LayoutModel",
          "model_module_version": "1.2.0",
          "state": {
            "_view_name": "LayoutView",
            "grid_template_rows": null,
            "right": null,
            "justify_content": null,
            "_view_module": "@jupyter-widgets/base",
            "overflow": null,
            "_model_module_version": "1.2.0",
            "_view_count": null,
            "flex_flow": null,
            "width": null,
            "min_width": null,
            "border": null,
            "align_items": null,
            "bottom": null,
            "_model_module": "@jupyter-widgets/base",
            "top": null,
            "grid_column": null,
            "overflow_y": null,
            "overflow_x": null,
            "grid_auto_flow": null,
            "grid_area": null,
            "grid_template_columns": null,
            "flex": null,
            "_model_name": "LayoutModel",
            "justify_items": null,
            "grid_row": null,
            "max_height": null,
            "align_content": null,
            "visibility": null,
            "align_self": null,
            "height": null,
            "min_height": null,
            "padding": null,
            "grid_auto_rows": null,
            "grid_gap": null,
            "max_width": null,
            "order": null,
            "_view_module_version": "1.2.0",
            "grid_template_areas": null,
            "object_position": null,
            "object_fit": null,
            "grid_auto_columns": null,
            "margin": null,
            "display": null,
            "left": null
          }
        },
        "f36de0a9ddb44119a935491984dd272e": {
          "model_module": "@jupyter-widgets/controls",
          "model_name": "IntSliderModel",
          "model_module_version": "1.5.0",
          "state": {
            "_view_name": "IntSliderView",
            "style": "IPY_MODEL_a927d1001be34a75a09edbf8efadbe30",
            "_dom_classes": [],
            "description": "f: ",
            "step": 1,
            "_model_name": "IntSliderModel",
            "orientation": "horizontal",
            "max": 9,
            "_view_module": "@jupyter-widgets/controls",
            "_model_module_version": "1.5.0",
            "value": 5,
            "_view_count": null,
            "disabled": false,
            "_view_module_version": "1.5.0",
            "min": 1,
            "continuous_update": false,
            "readout_format": "d",
            "description_tooltip": null,
            "readout": true,
            "_model_module": "@jupyter-widgets/controls",
            "layout": "IPY_MODEL_447bb91436b842f3ad51dc07d2f906ba"
          }
        },
        "2726b8408c6140a3873d3563dc95b007": {
          "model_module": "@jupyter-widgets/output",
          "model_name": "OutputModel",
          "model_module_version": "1.0.0",
          "state": {
            "_view_name": "OutputView",
            "msg_id": "",
            "_dom_classes": [],
            "_model_name": "OutputModel",
            "outputs": [
              {
                "output_type": "display_data",
                "data": {
                  "image/png": "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\n",
                  "text/plain": "<Figure size 576x432 with 2 Axes>"
                },
                "metadata": {
                  "needs_background": "light"
                }
              }
            ],
            "_view_module": "@jupyter-widgets/output",
            "_model_module_version": "1.0.0",
            "_view_count": null,
            "_view_module_version": "1.0.0",
            "layout": "IPY_MODEL_b329064d7c194bfa8c981b6d8c70a2c5",
            "_model_module": "@jupyter-widgets/output"
          }
        },
        "a927d1001be34a75a09edbf8efadbe30": {
          "model_module": "@jupyter-widgets/controls",
          "model_name": "SliderStyleModel",
          "model_module_version": "1.5.0",
          "state": {
            "_view_name": "StyleView",
            "handle_color": null,
            "_model_name": "SliderStyleModel",
            "description_width": "",
            "_view_module": "@jupyter-widgets/base",
            "_model_module_version": "1.5.0",
            "_view_count": null,
            "_view_module_version": "1.2.0",
            "_model_module": "@jupyter-widgets/controls"
          }
        },
        "447bb91436b842f3ad51dc07d2f906ba": {
          "model_module": "@jupyter-widgets/base",
          "model_name": "LayoutModel",
          "model_module_version": "1.2.0",
          "state": {
            "_view_name": "LayoutView",
            "grid_template_rows": null,
            "right": null,
            "justify_content": null,
            "_view_module": "@jupyter-widgets/base",
            "overflow": null,
            "_model_module_version": "1.2.0",
            "_view_count": null,
            "flex_flow": null,
            "width": null,
            "min_width": null,
            "border": null,
            "align_items": null,
            "bottom": null,
            "_model_module": "@jupyter-widgets/base",
            "top": null,
            "grid_column": null,
            "overflow_y": null,
            "overflow_x": null,
            "grid_auto_flow": null,
            "grid_area": null,
            "grid_template_columns": null,
            "flex": null,
            "_model_name": "LayoutModel",
            "justify_items": null,
            "grid_row": null,
            "max_height": null,
            "align_content": null,
            "visibility": null,
            "align_self": null,
            "height": null,
            "min_height": null,
            "padding": null,
            "grid_auto_rows": null,
            "grid_gap": null,
            "max_width": null,
            "order": null,
            "_view_module_version": "1.2.0",
            "grid_template_areas": null,
            "object_position": null,
            "object_fit": null,
            "grid_auto_columns": null,
            "margin": null,
            "display": null,
            "left": null
          }
        },
        "b329064d7c194bfa8c981b6d8c70a2c5": {
          "model_module": "@jupyter-widgets/base",
          "model_name": "LayoutModel",
          "model_module_version": "1.2.0",
          "state": {
            "_view_name": "LayoutView",
            "grid_template_rows": null,
            "right": null,
            "justify_content": null,
            "_view_module": "@jupyter-widgets/base",
            "overflow": null,
            "_model_module_version": "1.2.0",
            "_view_count": null,
            "flex_flow": null,
            "width": null,
            "min_width": null,
            "border": null,
            "align_items": null,
            "bottom": null,
            "_model_module": "@jupyter-widgets/base",
            "top": null,
            "grid_column": null,
            "overflow_y": null,
            "overflow_x": null,
            "grid_auto_flow": null,
            "grid_area": null,
            "grid_template_columns": null,
            "flex": null,
            "_model_name": "LayoutModel",
            "justify_items": null,
            "grid_row": null,
            "max_height": null,
            "align_content": null,
            "visibility": null,
            "align_self": null,
            "height": null,
            "min_height": null,
            "padding": null,
            "grid_auto_rows": null,
            "grid_gap": null,
            "max_width": null,
            "order": null,
            "_view_module_version": "1.2.0",
            "grid_template_areas": null,
            "object_position": null,
            "object_fit": null,
            "grid_auto_columns": null,
            "margin": null,
            "display": null,
            "left": null
          }
        },
        "a1678dcf14804b5d82b1ee3e7986d195": {
          "model_module": "@jupyter-widgets/controls",
          "model_name": "VBoxModel",
          "model_module_version": "1.5.0",
          "state": {
            "_view_name": "VBoxView",
            "_dom_classes": [
              "widget-interact"
            ],
            "_model_name": "VBoxModel",
            "_view_module": "@jupyter-widgets/controls",
            "_model_module_version": "1.5.0",
            "_view_count": null,
            "_view_module_version": "1.5.0",
            "box_style": "",
            "layout": "IPY_MODEL_8362e86d824c41bc9d7ad58997764053",
            "_model_module": "@jupyter-widgets/controls",
            "children": [
              "IPY_MODEL_8e566cbce23b43b49177848c7ec80cb3",
              "IPY_MODEL_2dcd90486b3b4980a52dc6abec29b2a6"
            ]
          }
        },
        "8362e86d824c41bc9d7ad58997764053": {
          "model_module": "@jupyter-widgets/base",
          "model_name": "LayoutModel",
          "model_module_version": "1.2.0",
          "state": {
            "_view_name": "LayoutView",
            "grid_template_rows": null,
            "right": null,
            "justify_content": null,
            "_view_module": "@jupyter-widgets/base",
            "overflow": null,
            "_model_module_version": "1.2.0",
            "_view_count": null,
            "flex_flow": null,
            "width": null,
            "min_width": null,
            "border": null,
            "align_items": null,
            "bottom": null,
            "_model_module": "@jupyter-widgets/base",
            "top": null,
            "grid_column": null,
            "overflow_y": null,
            "overflow_x": null,
            "grid_auto_flow": null,
            "grid_area": null,
            "grid_template_columns": null,
            "flex": null,
            "_model_name": "LayoutModel",
            "justify_items": null,
            "grid_row": null,
            "max_height": null,
            "align_content": null,
            "visibility": null,
            "align_self": null,
            "height": null,
            "min_height": null,
            "padding": null,
            "grid_auto_rows": null,
            "grid_gap": null,
            "max_width": null,
            "order": null,
            "_view_module_version": "1.2.0",
            "grid_template_areas": null,
            "object_position": null,
            "object_fit": null,
            "grid_auto_columns": null,
            "margin": null,
            "display": null,
            "left": null
          }
        },
        "8e566cbce23b43b49177848c7ec80cb3": {
          "model_module": "@jupyter-widgets/controls",
          "model_name": "IntSliderModel",
          "model_module_version": "1.5.0",
          "state": {
            "_view_name": "IntSliderView",
            "style": "IPY_MODEL_5fe168caab32432fb0a945b8b4696477",
            "_dom_classes": [],
            "description": "a: ",
            "step": 1,
            "_model_name": "IntSliderModel",
            "orientation": "horizontal",
            "max": 5,
            "_view_module": "@jupyter-widgets/controls",
            "_model_module_version": "1.5.0",
            "value": 3,
            "_view_count": null,
            "disabled": false,
            "_view_module_version": "1.5.0",
            "min": 1,
            "continuous_update": false,
            "readout_format": "d",
            "description_tooltip": null,
            "readout": true,
            "_model_module": "@jupyter-widgets/controls",
            "layout": "IPY_MODEL_b57373e98dfd4c939ffc4a6b369f75f7"
          }
        },
        "2dcd90486b3b4980a52dc6abec29b2a6": {
          "model_module": "@jupyter-widgets/output",
          "model_name": "OutputModel",
          "model_module_version": "1.0.0",
          "state": {
            "_view_name": "OutputView",
            "msg_id": "",
            "_dom_classes": [],
            "_model_name": "OutputModel",
            "outputs": [
              {
                "output_type": "display_data",
                "data": {
                  "image/png": "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\n",
                  "text/plain": "<Figure size 576x432 with 2 Axes>"
                },
                "metadata": {
                  "needs_background": "light"
                }
              }
            ],
            "_view_module": "@jupyter-widgets/output",
            "_model_module_version": "1.0.0",
            "_view_count": null,
            "_view_module_version": "1.0.0",
            "layout": "IPY_MODEL_634e058a3b8d4634b533693c5b008df2",
            "_model_module": "@jupyter-widgets/output"
          }
        },
        "5fe168caab32432fb0a945b8b4696477": {
          "model_module": "@jupyter-widgets/controls",
          "model_name": "SliderStyleModel",
          "model_module_version": "1.5.0",
          "state": {
            "_view_name": "StyleView",
            "handle_color": null,
            "_model_name": "SliderStyleModel",
            "description_width": "",
            "_view_module": "@jupyter-widgets/base",
            "_model_module_version": "1.5.0",
            "_view_count": null,
            "_view_module_version": "1.2.0",
            "_model_module": "@jupyter-widgets/controls"
          }
        },
        "b57373e98dfd4c939ffc4a6b369f75f7": {
          "model_module": "@jupyter-widgets/base",
          "model_name": "LayoutModel",
          "model_module_version": "1.2.0",
          "state": {
            "_view_name": "LayoutView",
            "grid_template_rows": null,
            "right": null,
            "justify_content": null,
            "_view_module": "@jupyter-widgets/base",
            "overflow": null,
            "_model_module_version": "1.2.0",
            "_view_count": null,
            "flex_flow": null,
            "width": null,
            "min_width": null,
            "border": null,
            "align_items": null,
            "bottom": null,
            "_model_module": "@jupyter-widgets/base",
            "top": null,
            "grid_column": null,
            "overflow_y": null,
            "overflow_x": null,
            "grid_auto_flow": null,
            "grid_area": null,
            "grid_template_columns": null,
            "flex": null,
            "_model_name": "LayoutModel",
            "justify_items": null,
            "grid_row": null,
            "max_height": null,
            "align_content": null,
            "visibility": null,
            "align_self": null,
            "height": null,
            "min_height": null,
            "padding": null,
            "grid_auto_rows": null,
            "grid_gap": null,
            "max_width": null,
            "order": null,
            "_view_module_version": "1.2.0",
            "grid_template_areas": null,
            "object_position": null,
            "object_fit": null,
            "grid_auto_columns": null,
            "margin": null,
            "display": null,
            "left": null
          }
        },
        "634e058a3b8d4634b533693c5b008df2": {
          "model_module": "@jupyter-widgets/base",
          "model_name": "LayoutModel",
          "model_module_version": "1.2.0",
          "state": {
            "_view_name": "LayoutView",
            "grid_template_rows": null,
            "right": null,
            "justify_content": null,
            "_view_module": "@jupyter-widgets/base",
            "overflow": null,
            "_model_module_version": "1.2.0",
            "_view_count": null,
            "flex_flow": null,
            "width": null,
            "min_width": null,
            "border": null,
            "align_items": null,
            "bottom": null,
            "_model_module": "@jupyter-widgets/base",
            "top": null,
            "grid_column": null,
            "overflow_y": null,
            "overflow_x": null,
            "grid_auto_flow": null,
            "grid_area": null,
            "grid_template_columns": null,
            "flex": null,
            "_model_name": "LayoutModel",
            "justify_items": null,
            "grid_row": null,
            "max_height": null,
            "align_content": null,
            "visibility": null,
            "align_self": null,
            "height": null,
            "min_height": null,
            "padding": null,
            "grid_auto_rows": null,
            "grid_gap": null,
            "max_width": null,
            "order": null,
            "_view_module_version": "1.2.0",
            "grid_template_areas": null,
            "object_position": null,
            "object_fit": null,
            "grid_auto_columns": null,
            "margin": null,
            "display": null,
            "left": null
          }
        },
        "0116c23db0f74e3c89effd499ba6da97": {
          "model_module": "@jupyter-widgets/controls",
          "model_name": "VBoxModel",
          "model_module_version": "1.5.0",
          "state": {
            "_view_name": "VBoxView",
            "_dom_classes": [
              "widget-interact"
            ],
            "_model_name": "VBoxModel",
            "_view_module": "@jupyter-widgets/controls",
            "_model_module_version": "1.5.0",
            "_view_count": null,
            "_view_module_version": "1.5.0",
            "box_style": "",
            "layout": "IPY_MODEL_554188203f014cb3b8b6327f39ab7f4e",
            "_model_module": "@jupyter-widgets/controls",
            "children": [
              "IPY_MODEL_172c69d5ce524046b4ae54f8cb2db6de",
              "IPY_MODEL_027ae080564949bcaeea41fbca89dbec"
            ]
          }
        },
        "554188203f014cb3b8b6327f39ab7f4e": {
          "model_module": "@jupyter-widgets/base",
          "model_name": "LayoutModel",
          "model_module_version": "1.2.0",
          "state": {
            "_view_name": "LayoutView",
            "grid_template_rows": null,
            "right": null,
            "justify_content": null,
            "_view_module": "@jupyter-widgets/base",
            "overflow": null,
            "_model_module_version": "1.2.0",
            "_view_count": null,
            "flex_flow": null,
            "width": null,
            "min_width": null,
            "border": null,
            "align_items": null,
            "bottom": null,
            "_model_module": "@jupyter-widgets/base",
            "top": null,
            "grid_column": null,
            "overflow_y": null,
            "overflow_x": null,
            "grid_auto_flow": null,
            "grid_area": null,
            "grid_template_columns": null,
            "flex": null,
            "_model_name": "LayoutModel",
            "justify_items": null,
            "grid_row": null,
            "max_height": null,
            "align_content": null,
            "visibility": null,
            "align_self": null,
            "height": null,
            "min_height": null,
            "padding": null,
            "grid_auto_rows": null,
            "grid_gap": null,
            "max_width": null,
            "order": null,
            "_view_module_version": "1.2.0",
            "grid_template_areas": null,
            "object_position": null,
            "object_fit": null,
            "grid_auto_columns": null,
            "margin": null,
            "display": null,
            "left": null
          }
        },
        "172c69d5ce524046b4ae54f8cb2db6de": {
          "model_module": "@jupyter-widgets/controls",
          "model_name": "FloatSliderModel",
          "model_module_version": "1.5.0",
          "state": {
            "_view_name": "FloatSliderView",
            "style": "IPY_MODEL_73ebc96fe70547c88fbb9fe535a49475",
            "_dom_classes": [],
            "description": "\\theta: ",
            "step": 0.01,
            "_model_name": "FloatSliderModel",
            "orientation": "horizontal",
            "max": 3.141592653589793,
            "_view_module": "@jupyter-widgets/controls",
            "_model_module_version": "1.5.0",
            "value": 2.14841,
            "_view_count": null,
            "disabled": false,
            "_view_module_version": "1.5.0",
            "min": -3.141592653589793,
            "continuous_update": false,
            "readout_format": ".2f",
            "description_tooltip": null,
            "readout": true,
            "_model_module": "@jupyter-widgets/controls",
            "layout": "IPY_MODEL_1efc49486a094adbb02ba5bf13bc4266"
          }
        },
        "027ae080564949bcaeea41fbca89dbec": {
          "model_module": "@jupyter-widgets/output",
          "model_name": "OutputModel",
          "model_module_version": "1.0.0",
          "state": {
            "_view_name": "OutputView",
            "msg_id": "",
            "_dom_classes": [],
            "_model_name": "OutputModel",
            "outputs": [
              {
                "output_type": "display_data",
                "data": {
                  "image/png": "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\n",
                  "text/plain": "<Figure size 576x648 with 3 Axes>"
                },
                "metadata": {
                  "needs_background": "light"
                }
              }
            ],
            "_view_module": "@jupyter-widgets/output",
            "_model_module_version": "1.0.0",
            "_view_count": null,
            "_view_module_version": "1.0.0",
            "layout": "IPY_MODEL_a98df0c1cd8845d8925ab723ee8d4f0d",
            "_model_module": "@jupyter-widgets/output"
          }
        },
        "73ebc96fe70547c88fbb9fe535a49475": {
          "model_module": "@jupyter-widgets/controls",
          "model_name": "SliderStyleModel",
          "model_module_version": "1.5.0",
          "state": {
            "_view_name": "StyleView",
            "handle_color": null,
            "_model_name": "SliderStyleModel",
            "description_width": "",
            "_view_module": "@jupyter-widgets/base",
            "_model_module_version": "1.5.0",
            "_view_count": null,
            "_view_module_version": "1.2.0",
            "_model_module": "@jupyter-widgets/controls"
          }
        },
        "1efc49486a094adbb02ba5bf13bc4266": {
          "model_module": "@jupyter-widgets/base",
          "model_name": "LayoutModel",
          "model_module_version": "1.2.0",
          "state": {
            "_view_name": "LayoutView",
            "grid_template_rows": null,
            "right": null,
            "justify_content": null,
            "_view_module": "@jupyter-widgets/base",
            "overflow": null,
            "_model_module_version": "1.2.0",
            "_view_count": null,
            "flex_flow": null,
            "width": null,
            "min_width": null,
            "border": null,
            "align_items": null,
            "bottom": null,
            "_model_module": "@jupyter-widgets/base",
            "top": null,
            "grid_column": null,
            "overflow_y": null,
            "overflow_x": null,
            "grid_auto_flow": null,
            "grid_area": null,
            "grid_template_columns": null,
            "flex": null,
            "_model_name": "LayoutModel",
            "justify_items": null,
            "grid_row": null,
            "max_height": null,
            "align_content": null,
            "visibility": null,
            "align_self": null,
            "height": null,
            "min_height": null,
            "padding": null,
            "grid_auto_rows": null,
            "grid_gap": null,
            "max_width": null,
            "order": null,
            "_view_module_version": "1.2.0",
            "grid_template_areas": null,
            "object_position": null,
            "object_fit": null,
            "grid_auto_columns": null,
            "margin": null,
            "display": null,
            "left": null
          }
        },
        "a98df0c1cd8845d8925ab723ee8d4f0d": {
          "model_module": "@jupyter-widgets/base",
          "model_name": "LayoutModel",
          "model_module_version": "1.2.0",
          "state": {
            "_view_name": "LayoutView",
            "grid_template_rows": null,
            "right": null,
            "justify_content": null,
            "_view_module": "@jupyter-widgets/base",
            "overflow": null,
            "_model_module_version": "1.2.0",
            "_view_count": null,
            "flex_flow": null,
            "width": null,
            "min_width": null,
            "border": null,
            "align_items": null,
            "bottom": null,
            "_model_module": "@jupyter-widgets/base",
            "top": null,
            "grid_column": null,
            "overflow_y": null,
            "overflow_x": null,
            "grid_auto_flow": null,
            "grid_area": null,
            "grid_template_columns": null,
            "flex": null,
            "_model_name": "LayoutModel",
            "justify_items": null,
            "grid_row": null,
            "max_height": null,
            "align_content": null,
            "visibility": null,
            "align_self": null,
            "height": null,
            "min_height": null,
            "padding": null,
            "grid_auto_rows": null,
            "grid_gap": null,
            "max_width": null,
            "order": null,
            "_view_module_version": "1.2.0",
            "grid_template_areas": null,
            "object_position": null,
            "object_fit": null,
            "grid_auto_columns": null,
            "margin": null,
            "display": null,
            "left": null
          }
        },
        "9de286d283ed4c6b8b3470f62e60bc1b": {
          "model_module": "@jupyter-widgets/controls",
          "model_name": "VBoxModel",
          "model_module_version": "1.5.0",
          "state": {
            "_view_name": "VBoxView",
            "_dom_classes": [
              "widget-interact"
            ],
            "_model_name": "VBoxModel",
            "_view_module": "@jupyter-widgets/controls",
            "_model_module_version": "1.5.0",
            "_view_count": null,
            "_view_module_version": "1.5.0",
            "box_style": "",
            "layout": "IPY_MODEL_c9bd19fa13a74cfa826e760806d66e52",
            "_model_module": "@jupyter-widgets/controls",
            "children": [
              "IPY_MODEL_9783d7a61d4343c2a1c737037fce4b9f",
              "IPY_MODEL_d94fa2802a2a4f949381360858434d2f",
              "IPY_MODEL_b5e78a0ffd4f438a8d0cbe926396f298",
              "IPY_MODEL_54da7f6c837b4efe8bf2a4bd5845d410",
              "IPY_MODEL_3c6129c2459b414a90a16bfa46f53f1b"
            ]
          }
        },
        "c9bd19fa13a74cfa826e760806d66e52": {
          "model_module": "@jupyter-widgets/base",
          "model_name": "LayoutModel",
          "model_module_version": "1.2.0",
          "state": {
            "_view_name": "LayoutView",
            "grid_template_rows": null,
            "right": null,
            "justify_content": null,
            "_view_module": "@jupyter-widgets/base",
            "overflow": null,
            "_model_module_version": "1.2.0",
            "_view_count": null,
            "flex_flow": null,
            "width": null,
            "min_width": null,
            "border": null,
            "align_items": null,
            "bottom": null,
            "_model_module": "@jupyter-widgets/base",
            "top": null,
            "grid_column": null,
            "overflow_y": null,
            "overflow_x": null,
            "grid_auto_flow": null,
            "grid_area": null,
            "grid_template_columns": null,
            "flex": null,
            "_model_name": "LayoutModel",
            "justify_items": null,
            "grid_row": null,
            "max_height": null,
            "align_content": null,
            "visibility": null,
            "align_self": null,
            "height": null,
            "min_height": null,
            "padding": null,
            "grid_auto_rows": null,
            "grid_gap": null,
            "max_width": null,
            "order": null,
            "_view_module_version": "1.2.0",
            "grid_template_areas": null,
            "object_position": null,
            "object_fit": null,
            "grid_auto_columns": null,
            "margin": null,
            "display": null,
            "left": null
          }
        },
        "9783d7a61d4343c2a1c737037fce4b9f": {
          "model_module": "@jupyter-widgets/controls",
          "model_name": "FloatSliderModel",
          "model_module_version": "1.5.0",
          "state": {
            "_view_name": "FloatSliderView",
            "style": "IPY_MODEL_7f9f1b2521ad4de49611cdf8e3b2b1ee",
            "_dom_classes": [],
            "description": "a1",
            "step": 0.1,
            "_model_name": "FloatSliderModel",
            "orientation": "horizontal",
            "max": 3,
            "_view_module": "@jupyter-widgets/controls",
            "_model_module_version": "1.5.0",
            "value": -1.4,
            "_view_count": null,
            "disabled": false,
            "_view_module_version": "1.5.0",
            "min": -3,
            "continuous_update": true,
            "readout_format": ".2f",
            "description_tooltip": null,
            "readout": true,
            "_model_module": "@jupyter-widgets/controls",
            "layout": "IPY_MODEL_114985a47491403d9ce85cba8070c9e6"
          }
        },
        "d94fa2802a2a4f949381360858434d2f": {
          "model_module": "@jupyter-widgets/controls",
          "model_name": "FloatSliderModel",
          "model_module_version": "1.5.0",
          "state": {
            "_view_name": "FloatSliderView",
            "style": "IPY_MODEL_1b4ba203e17a4421ac91bbaa1fe6045a",
            "_dom_classes": [],
            "description": "a2",
            "step": 0.1,
            "_model_name": "FloatSliderModel",
            "orientation": "horizontal",
            "max": 3,
            "_view_module": "@jupyter-widgets/controls",
            "_model_module_version": "1.5.0",
            "value": 2.8,
            "_view_count": null,
            "disabled": false,
            "_view_module_version": "1.5.0",
            "min": -3,
            "continuous_update": true,
            "readout_format": ".2f",
            "description_tooltip": null,
            "readout": true,
            "_model_module": "@jupyter-widgets/controls",
            "layout": "IPY_MODEL_ab8fa20476644d19879b77f2e5ecf6d8"
          }
        },
        "b5e78a0ffd4f438a8d0cbe926396f298": {
          "model_module": "@jupyter-widgets/controls",
          "model_name": "FloatSliderModel",
          "model_module_version": "1.5.0",
          "state": {
            "_view_name": "FloatSliderView",
            "style": "IPY_MODEL_0b181e67282c410f9539b425631dd358",
            "_dom_classes": [],
            "description": "f1",
            "step": 0.1,
            "_model_name": "FloatSliderModel",
            "orientation": "horizontal",
            "max": 5,
            "_view_module": "@jupyter-widgets/controls",
            "_model_module_version": "1.5.0",
            "value": 1.7,
            "_view_count": null,
            "disabled": false,
            "_view_module_version": "1.5.0",
            "min": 1,
            "continuous_update": true,
            "readout_format": ".2f",
            "description_tooltip": null,
            "readout": true,
            "_model_module": "@jupyter-widgets/controls",
            "layout": "IPY_MODEL_639a43305e9343eb916775b377c85436"
          }
        },
        "54da7f6c837b4efe8bf2a4bd5845d410": {
          "model_module": "@jupyter-widgets/controls",
          "model_name": "FloatSliderModel",
          "model_module_version": "1.5.0",
          "state": {
            "_view_name": "FloatSliderView",
            "style": "IPY_MODEL_8f6b26c6e9b047f58a6afb9cc11069d1",
            "_dom_classes": [],
            "description": "f2",
            "step": 0.1,
            "_model_name": "FloatSliderModel",
            "orientation": "horizontal",
            "max": 5,
            "_view_module": "@jupyter-widgets/controls",
            "_model_module_version": "1.5.0",
            "value": 4.3,
            "_view_count": null,
            "disabled": false,
            "_view_module_version": "1.5.0",
            "min": 1,
            "continuous_update": true,
            "readout_format": ".2f",
            "description_tooltip": null,
            "readout": true,
            "_model_module": "@jupyter-widgets/controls",
            "layout": "IPY_MODEL_9de816c5d8fd4c39b6b292fca922819f"
          }
        },
        "3c6129c2459b414a90a16bfa46f53f1b": {
          "model_module": "@jupyter-widgets/output",
          "model_name": "OutputModel",
          "model_module_version": "1.0.0",
          "state": {
            "_view_name": "OutputView",
            "msg_id": "",
            "_dom_classes": [],
            "_model_name": "OutputModel",
            "outputs": [
              {
                "output_type": "display_data",
                "data": {
                  "image/png": "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\n",
                  "text/plain": "<Figure size 1152x432 with 4 Axes>"
                },
                "metadata": {
                  "needs_background": "light"
                }
              }
            ],
            "_view_module": "@jupyter-widgets/output",
            "_model_module_version": "1.0.0",
            "_view_count": null,
            "_view_module_version": "1.0.0",
            "layout": "IPY_MODEL_84ea6a0f54b34ab58794c71c16cc3413",
            "_model_module": "@jupyter-widgets/output"
          }
        },
        "7f9f1b2521ad4de49611cdf8e3b2b1ee": {
          "model_module": "@jupyter-widgets/controls",
          "model_name": "SliderStyleModel",
          "model_module_version": "1.5.0",
          "state": {
            "_view_name": "StyleView",
            "handle_color": null,
            "_model_name": "SliderStyleModel",
            "description_width": "",
            "_view_module": "@jupyter-widgets/base",
            "_model_module_version": "1.5.0",
            "_view_count": null,
            "_view_module_version": "1.2.0",
            "_model_module": "@jupyter-widgets/controls"
          }
        },
        "114985a47491403d9ce85cba8070c9e6": {
          "model_module": "@jupyter-widgets/base",
          "model_name": "LayoutModel",
          "model_module_version": "1.2.0",
          "state": {
            "_view_name": "LayoutView",
            "grid_template_rows": null,
            "right": null,
            "justify_content": null,
            "_view_module": "@jupyter-widgets/base",
            "overflow": null,
            "_model_module_version": "1.2.0",
            "_view_count": null,
            "flex_flow": null,
            "width": null,
            "min_width": null,
            "border": null,
            "align_items": null,
            "bottom": null,
            "_model_module": "@jupyter-widgets/base",
            "top": null,
            "grid_column": null,
            "overflow_y": null,
            "overflow_x": null,
            "grid_auto_flow": null,
            "grid_area": null,
            "grid_template_columns": null,
            "flex": null,
            "_model_name": "LayoutModel",
            "justify_items": null,
            "grid_row": null,
            "max_height": null,
            "align_content": null,
            "visibility": null,
            "align_self": null,
            "height": null,
            "min_height": null,
            "padding": null,
            "grid_auto_rows": null,
            "grid_gap": null,
            "max_width": null,
            "order": null,
            "_view_module_version": "1.2.0",
            "grid_template_areas": null,
            "object_position": null,
            "object_fit": null,
            "grid_auto_columns": null,
            "margin": null,
            "display": null,
            "left": null
          }
        },
        "1b4ba203e17a4421ac91bbaa1fe6045a": {
          "model_module": "@jupyter-widgets/controls",
          "model_name": "SliderStyleModel",
          "model_module_version": "1.5.0",
          "state": {
            "_view_name": "StyleView",
            "handle_color": null,
            "_model_name": "SliderStyleModel",
            "description_width": "",
            "_view_module": "@jupyter-widgets/base",
            "_model_module_version": "1.5.0",
            "_view_count": null,
            "_view_module_version": "1.2.0",
            "_model_module": "@jupyter-widgets/controls"
          }
        },
        "ab8fa20476644d19879b77f2e5ecf6d8": {
          "model_module": "@jupyter-widgets/base",
          "model_name": "LayoutModel",
          "model_module_version": "1.2.0",
          "state": {
            "_view_name": "LayoutView",
            "grid_template_rows": null,
            "right": null,
            "justify_content": null,
            "_view_module": "@jupyter-widgets/base",
            "overflow": null,
            "_model_module_version": "1.2.0",
            "_view_count": null,
            "flex_flow": null,
            "width": null,
            "min_width": null,
            "border": null,
            "align_items": null,
            "bottom": null,
            "_model_module": "@jupyter-widgets/base",
            "top": null,
            "grid_column": null,
            "overflow_y": null,
            "overflow_x": null,
            "grid_auto_flow": null,
            "grid_area": null,
            "grid_template_columns": null,
            "flex": null,
            "_model_name": "LayoutModel",
            "justify_items": null,
            "grid_row": null,
            "max_height": null,
            "align_content": null,
            "visibility": null,
            "align_self": null,
            "height": null,
            "min_height": null,
            "padding": null,
            "grid_auto_rows": null,
            "grid_gap": null,
            "max_width": null,
            "order": null,
            "_view_module_version": "1.2.0",
            "grid_template_areas": null,
            "object_position": null,
            "object_fit": null,
            "grid_auto_columns": null,
            "margin": null,
            "display": null,
            "left": null
          }
        },
        "0b181e67282c410f9539b425631dd358": {
          "model_module": "@jupyter-widgets/controls",
          "model_name": "SliderStyleModel",
          "model_module_version": "1.5.0",
          "state": {
            "_view_name": "StyleView",
            "handle_color": null,
            "_model_name": "SliderStyleModel",
            "description_width": "",
            "_view_module": "@jupyter-widgets/base",
            "_model_module_version": "1.5.0",
            "_view_count": null,
            "_view_module_version": "1.2.0",
            "_model_module": "@jupyter-widgets/controls"
          }
        },
        "639a43305e9343eb916775b377c85436": {
          "model_module": "@jupyter-widgets/base",
          "model_name": "LayoutModel",
          "model_module_version": "1.2.0",
          "state": {
            "_view_name": "LayoutView",
            "grid_template_rows": null,
            "right": null,
            "justify_content": null,
            "_view_module": "@jupyter-widgets/base",
            "overflow": null,
            "_model_module_version": "1.2.0",
            "_view_count": null,
            "flex_flow": null,
            "width": null,
            "min_width": null,
            "border": null,
            "align_items": null,
            "bottom": null,
            "_model_module": "@jupyter-widgets/base",
            "top": null,
            "grid_column": null,
            "overflow_y": null,
            "overflow_x": null,
            "grid_auto_flow": null,
            "grid_area": null,
            "grid_template_columns": null,
            "flex": null,
            "_model_name": "LayoutModel",
            "justify_items": null,
            "grid_row": null,
            "max_height": null,
            "align_content": null,
            "visibility": null,
            "align_self": null,
            "height": null,
            "min_height": null,
            "padding": null,
            "grid_auto_rows": null,
            "grid_gap": null,
            "max_width": null,
            "order": null,
            "_view_module_version": "1.2.0",
            "grid_template_areas": null,
            "object_position": null,
            "object_fit": null,
            "grid_auto_columns": null,
            "margin": null,
            "display": null,
            "left": null
          }
        },
        "8f6b26c6e9b047f58a6afb9cc11069d1": {
          "model_module": "@jupyter-widgets/controls",
          "model_name": "SliderStyleModel",
          "model_module_version": "1.5.0",
          "state": {
            "_view_name": "StyleView",
            "handle_color": null,
            "_model_name": "SliderStyleModel",
            "description_width": "",
            "_view_module": "@jupyter-widgets/base",
            "_model_module_version": "1.5.0",
            "_view_count": null,
            "_view_module_version": "1.2.0",
            "_model_module": "@jupyter-widgets/controls"
          }
        },
        "9de816c5d8fd4c39b6b292fca922819f": {
          "model_module": "@jupyter-widgets/base",
          "model_name": "LayoutModel",
          "model_module_version": "1.2.0",
          "state": {
            "_view_name": "LayoutView",
            "grid_template_rows": null,
            "right": null,
            "justify_content": null,
            "_view_module": "@jupyter-widgets/base",
            "overflow": null,
            "_model_module_version": "1.2.0",
            "_view_count": null,
            "flex_flow": null,
            "width": null,
            "min_width": null,
            "border": null,
            "align_items": null,
            "bottom": null,
            "_model_module": "@jupyter-widgets/base",
            "top": null,
            "grid_column": null,
            "overflow_y": null,
            "overflow_x": null,
            "grid_auto_flow": null,
            "grid_area": null,
            "grid_template_columns": null,
            "flex": null,
            "_model_name": "LayoutModel",
            "justify_items": null,
            "grid_row": null,
            "max_height": null,
            "align_content": null,
            "visibility": null,
            "align_self": null,
            "height": null,
            "min_height": null,
            "padding": null,
            "grid_auto_rows": null,
            "grid_gap": null,
            "max_width": null,
            "order": null,
            "_view_module_version": "1.2.0",
            "grid_template_areas": null,
            "object_position": null,
            "object_fit": null,
            "grid_auto_columns": null,
            "margin": null,
            "display": null,
            "left": null
          }
        },
        "84ea6a0f54b34ab58794c71c16cc3413": {
          "model_module": "@jupyter-widgets/base",
          "model_name": "LayoutModel",
          "model_module_version": "1.2.0",
          "state": {
            "_view_name": "LayoutView",
            "grid_template_rows": null,
            "right": null,
            "justify_content": null,
            "_view_module": "@jupyter-widgets/base",
            "overflow": null,
            "_model_module_version": "1.2.0",
            "_view_count": null,
            "flex_flow": null,
            "width": null,
            "min_width": null,
            "border": null,
            "align_items": null,
            "bottom": null,
            "_model_module": "@jupyter-widgets/base",
            "top": null,
            "grid_column": null,
            "overflow_y": null,
            "overflow_x": null,
            "grid_auto_flow": null,
            "grid_area": null,
            "grid_template_columns": null,
            "flex": null,
            "_model_name": "LayoutModel",
            "justify_items": null,
            "grid_row": null,
            "max_height": null,
            "align_content": null,
            "visibility": null,
            "align_self": null,
            "height": null,
            "min_height": null,
            "padding": null,
            "grid_auto_rows": null,
            "grid_gap": null,
            "max_width": null,
            "order": null,
            "_view_module_version": "1.2.0",
            "grid_template_areas": null,
            "object_position": null,
            "object_fit": null,
            "grid_auto_columns": null,
            "margin": null,
            "display": null,
            "left": null
          }
        }
      }
    }
  },
  "cells": [
    {
      "cell_type": "markdown",
      "metadata": {
        "id": "view-in-github",
        "colab_type": "text"
      },
      "source": [
        "<a href=\"https://colab.research.google.com/github/miyazaki-ryoichi/DSP/blob/main/1.ipynb\" target=\"_parent\"><img src=\"https://colab.research.google.com/assets/colab-badge.svg\" alt=\"Open In Colab\"/></a>"
      ]
    },
    {
      "cell_type": "markdown",
      "source": [
        "ランタイム→すべてのセルを実行"
      ],
      "metadata": {
        "id": "6qGkAQNPMIOp"
      }
    },
    {
      "cell_type": "markdown",
      "source": [
        "# Latex の表記をできるようにする設定\n",
        "信号処理には何も関係ない．時間は結構かかる・・・．"
      ],
      "metadata": {
        "id": "0nFXfZR7l8BK"
      }
    },
    {
      "cell_type": "code",
      "source": [
        "!sudo apt install cm-super \n",
        "!sudo apt install dvipng\n",
        "!sudo apt install texlive-latex-extra\n",
        "#!sudo apt install texlive-latex-recommended"
      ],
      "metadata": {
        "id": "mrz1C9ZTBwQY"
      },
      "execution_count": null,
      "outputs": []
    },
    {
      "cell_type": "markdown",
      "source": [
        "# のこぎり波\n",
        "$k$ の値を大きくすることで，様々な周期の正弦波を足し合わせ，結果としてのこぎり波に近づいていくことを確認できる．"
      ],
      "metadata": {
        "id": "9zyCkQ94mKE6"
      }
    },
    {
      "cell_type": "code",
      "source": [
        "from __future__ import unicode_literals\n",
        "import numpy as np\n",
        "import matplotlib\n",
        "matplotlib.rcParams['text.usetex'] = True\n",
        "import matplotlib.pyplot as plt\n",
        "from ipywidgets import interact\n",
        "import ipywidgets as widgets\n",
        "\n",
        "def f(k):\n",
        "    x = np.linspace(0, 20, num=1000)\n",
        "    y=0\n",
        "    for n in range(1, k+1, 1):\n",
        "        y = y + (-1)**(n-1)*2/n*np.sin(n*x)\n",
        "\n",
        "    fig, ax = plt.subplots(1, 1, figsize=(8, 4))\n",
        "    ax.plot(x, y)\n",
        "    \n",
        "    ax.set_title(r\"$\\displaystyle y=\\sum_{{n=1}}^{{{k}}}(-1)^{{n-1}}* \\frac{2}{{n}}*\\sin(nx)$\", fontsize=16)\n",
        "    ax.set_xlim(0, 20)\n",
        "    ax.set_ylim(-5, 5)\n",
        "    ax.set_xlabel(r\"$x$\", fontsize=16)\n",
        "    ax.set_ylabel(r\"$y$\", fontsize=16)\n",
        "    plt.tick_params(labelsize=16)\n",
        "    \n",
        "    fig.align_labels()  \n",
        "    fig.tight_layout()\n",
        "\n",
        "interact(f, k=widgets.IntSlider(min=1, max=20, step=1, value=10, description='k: ', continuous_update=False) )"
      ],
      "metadata": {
        "colab": {
          "base_uri": "https://localhost:8080/",
          "height": 316,
          "referenced_widgets": [
            "af6d10b7da1b44edb79a26dee439a216",
            "32eacf49b8fe41338c646644d9f7d4ac",
            "fe96ad843f9740d7a774a0874322e796",
            "c96ebe87fe874e71b891c157f4320faa",
            "537723cd305c4092b1a0e455fb3ae51a",
            "5793d27382cb493290adc2f1362bd380",
            "b436cb8294cd4a42be0f26834b582eb7"
          ]
        },
        "id": "nTWd3Ii3noMz",
        "outputId": "dec7d25f-367d-4705-912d-8ee89ebf1943"
      },
      "execution_count": null,
      "outputs": [
        {
          "output_type": "display_data",
          "data": {
            "application/vnd.jupyter.widget-view+json": {
              "model_id": "af6d10b7da1b44edb79a26dee439a216",
              "version_minor": 0,
              "version_major": 2
            },
            "text/plain": [
              "interactive(children=(IntSlider(value=10, continuous_update=False, description='k: ', max=20, min=1), Output()…"
            ]
          },
          "metadata": {}
        },
        {
          "output_type": "execute_result",
          "data": {
            "text/plain": [
              "<function __main__.f>"
            ]
          },
          "metadata": {},
          "execution_count": 60
        }
      ]
    },
    {
      "cell_type": "markdown",
      "source": [
        "# フーリエ級数とフーリエ変換の関係\n",
        "・フーリエ級数：信号の周期性を仮定 $(n=5)$ →スペクトルは離散的\n",
        "\n",
        "・フーリエ変換：非周期な信号にも対応できるように拡張 $(n=1)$ →スペクトルは連続的"
      ],
      "metadata": {
        "id": "4KbwmErdmnFZ"
      }
    },
    {
      "cell_type": "code",
      "source": [
        "from __future__ import unicode_literals\n",
        "import numpy as np\n",
        "import matplotlib\n",
        "matplotlib.rcParams['text.usetex'] = True\n",
        "import matplotlib.pyplot as plt\n",
        "from ipywidgets import interact\n",
        "import ipywidgets as widgets\n",
        "from scipy import signal\n",
        "import scipy.fftpack as spfft\n",
        "\n",
        "\n",
        "def f(n):\n",
        "    FONT_SIZE = 16\n",
        "    NUM = 5\n",
        "    \n",
        "    FS = 200\n",
        "    SIZE = FS * 100\n",
        "\n",
        "    t = np.linspace(0, 1, SIZE)\n",
        "    y = 0.5+0.5*signal.square(2*np.pi * NUM * t)\n",
        "    y[t>=n/NUM]=0\n",
        "\n",
        "    fig, ax = plt.subplots(2, 1, figsize=(8, 6))    \n",
        "    #ax[0].plot(t, y, label=rf\"$\\displaystyle y(t)=0.5+0.5\\sin(2 \\pi t)$\")\n",
        "    ax[0].plot(t, y, label=rf\"$y(t)$\")\n",
        "\n",
        "    ax[0].set_xlim(0, 1)\n",
        "    ax[0].set_ylim(0, 1.2)\n",
        "    ax[0].set_xlabel(r\"$t\\ [s]$\", fontsize=FONT_SIZE)\n",
        "    ax[0].set_ylabel(r\"${\\rm Amplitude}$\", fontsize=FONT_SIZE)\n",
        "    ax[0].legend(fontsize=FONT_SIZE, loc='upper right')\n",
        "    ax[0].tick_params(labelsize=FONT_SIZE)\n",
        "\n",
        "    freqList = spfft.fftfreq(SIZE, d=1.0/FS)\n",
        "    Y = spfft.fft(y) / (SIZE/2)\n",
        "    ax[1].plot(freqList[:SIZE//2], np.abs(Y[:SIZE//2]), label=rf\"$|Y(f)|$\")\n",
        "\n",
        "    ax[1].set_xlim(0, 2)\n",
        "    ax[1].set_ylim(0, 0.6)\n",
        "    ax[1].set_xlabel(r\"${\\rm Frequency \\ [Hz]}$\", fontsize=FONT_SIZE)\n",
        "    ax[1].set_ylabel(r\"${\\rm Amplitude}$\", fontsize=FONT_SIZE)\n",
        "    ax[1].legend(fontsize=FONT_SIZE, loc='upper right')\n",
        "    ax[1].tick_params(labelsize=FONT_SIZE)\n",
        "\n",
        "    fig.align_labels()  \n",
        "    fig.tight_layout()\n",
        "\n",
        "interact(f, n=widgets.IntSlider(min=1, max=5, step=1, value=5, description='n: ', continuous_update=False) )"
      ],
      "metadata": {
        "colab": {
          "base_uri": "https://localhost:8080/",
          "height": 490,
          "referenced_widgets": [
            "09b0dc9dcbc54c228fd08519e1ec516a",
            "74629361c83047ae80004d9c3a1de0e4",
            "4a012df93a00491f99d4303548128f0d",
            "ec41ce5649344b288a464a8a8075f893",
            "ebb7e44253b5460782f02d0b14bb4c6d",
            "8c835b5c74b74e8e82fe04fdb06da66b",
            "adb022fcd1ff4b488ec96e2ba324a6c2"
          ]
        },
        "id": "19TZLo2Efdtc",
        "outputId": "450765d4-3613-47b9-f19f-18fb2fb3a2c1"
      },
      "execution_count": null,
      "outputs": [
        {
          "output_type": "display_data",
          "data": {
            "application/vnd.jupyter.widget-view+json": {
              "model_id": "09b0dc9dcbc54c228fd08519e1ec516a",
              "version_minor": 0,
              "version_major": 2
            },
            "text/plain": [
              "interactive(children=(IntSlider(value=5, continuous_update=False, description='n: ', max=5, min=1), Output()),…"
            ]
          },
          "metadata": {}
        },
        {
          "output_type": "execute_result",
          "data": {
            "text/plain": [
              "<function __main__.f>"
            ]
          },
          "metadata": {},
          "execution_count": 15
        }
      ]
    },
    {
      "cell_type": "markdown",
      "source": [
        "# 周波数の変更\n",
        "$f$ の値を変えることで，振幅スペクトルが左右に移動することが確認できる．"
      ],
      "metadata": {
        "id": "hiO6ek-IxC8N"
      }
    },
    {
      "cell_type": "code",
      "source": [
        "from __future__ import unicode_literals\n",
        "import numpy as np\n",
        "import matplotlib\n",
        "matplotlib.rcParams['text.usetex'] = True\n",
        "import matplotlib.pyplot as plt\n",
        "from ipywidgets import interact, IntSlider\n",
        "\n",
        "def f(f):\n",
        "    FONT_SIZE = 16\n",
        "    \n",
        "    FS = 200\n",
        "    SIZE = FS * 100\n",
        "\n",
        "    t = np.arange(SIZE) / FS\n",
        "    y = np.sin(2 * np.pi * f * t)\n",
        "\n",
        "    fig, ax = plt.subplots(2, 1, figsize=(8, 6))\n",
        "    ax[0].plot(t, y, label=rf\"$\\displaystyle y(t)=\\sin(2 \\pi f t)$\")\n",
        "\n",
        "    ax[0].set_xlim(0, 1)\n",
        "    ax[0].set_ylim(-1.2, 1.2)\n",
        "    ax[0].set_xlabel(r\"$t\\ [s]$\", fontsize=16)\n",
        "    ax[0].set_ylabel(r\"${\\rm Amplitude}$\", fontsize=16)\n",
        "    ax[0].legend(fontsize=16, loc='upper right')\n",
        "    ax[0].tick_params(labelsize=16)\n",
        "    \n",
        "    Y = spfft.fft(y) / (SIZE/2)\n",
        "    freqList = spfft.fftfreq(SIZE, d=1.0/FS)\n",
        "    ax[1].plot(freqList[:SIZE//2], np.abs(Y[:SIZE//2]), label=rf\"$|Y(f)|$\")\n",
        "\n",
        "    ax[1].set_xlim(0, 10)\n",
        "    ax[1].set_ylim(0, 1.2)\n",
        "    ax[1].set_xlabel(r\"${\\rm Frequency\\ [Hz]}$\", fontsize=16)\n",
        "    ax[1].set_ylabel(r\"${\\rm Amplitude}$\", fontsize=16)\n",
        "    ax[1].legend(fontsize=16, loc='upper right')\n",
        "    ax[1].tick_params(labelsize=16)\n",
        "\n",
        "\n",
        "    fig.align_labels()  \n",
        "    fig.tight_layout()\n",
        "\n",
        "interact(f, f=IntSlider(min=1, max=9, step=1, value=5, description='f: ', continuous_update=False) )"
      ],
      "metadata": {
        "colab": {
          "base_uri": "https://localhost:8080/",
          "height": 490,
          "referenced_widgets": [
            "792f490700fd480cb060f6a9f1ddd4aa",
            "77c825f0e47248b7b061b210e5b51f4d",
            "f36de0a9ddb44119a935491984dd272e",
            "2726b8408c6140a3873d3563dc95b007",
            "a927d1001be34a75a09edbf8efadbe30",
            "447bb91436b842f3ad51dc07d2f906ba",
            "b329064d7c194bfa8c981b6d8c70a2c5"
          ]
        },
        "id": "7zNitDg1f3gc",
        "outputId": "50568347-4aef-4507-d57f-7e372f6a30df"
      },
      "execution_count": null,
      "outputs": [
        {
          "output_type": "display_data",
          "data": {
            "application/vnd.jupyter.widget-view+json": {
              "model_id": "792f490700fd480cb060f6a9f1ddd4aa",
              "version_minor": 0,
              "version_major": 2
            },
            "text/plain": [
              "interactive(children=(IntSlider(value=5, continuous_update=False, description='f: ', max=9, min=1), Output()),…"
            ]
          },
          "metadata": {}
        },
        {
          "output_type": "execute_result",
          "data": {
            "text/plain": [
              "<function __main__.f>"
            ]
          },
          "metadata": {},
          "execution_count": 16
        }
      ]
    },
    {
      "cell_type": "markdown",
      "source": [
        "# 振幅の変更\n",
        "$a$ の値を変えることで，振幅スペクトルが上下に移動することが確認できる．"
      ],
      "metadata": {
        "id": "0aDzN86lf9Zh"
      }
    },
    {
      "cell_type": "code",
      "source": [
        "from __future__ import unicode_literals\n",
        "import numpy as np\n",
        "import matplotlib\n",
        "matplotlib.rcParams['text.usetex'] = True\n",
        "import matplotlib.pyplot as plt\n",
        "from ipywidgets import interact\n",
        "\n",
        "num = 6\n",
        "\n",
        "def f(a):\n",
        "    FONT_SIZE = 16\n",
        "    \n",
        "    FS = 200\n",
        "    SIZE = FS * 100\n",
        "\n",
        "    t = np.arange(SIZE) / FS\n",
        "    y = a * np.sin(2 * np.pi * 2* t)\n",
        "\n",
        "    fig, ax = plt.subplots(2, 1, figsize=(8, 6))\n",
        "    ax[0].plot(t, y, label=rf\"$\\displaystyle y(t)=a \\sin(2 \\pi \\cdot 2t)$\")\n",
        "\n",
        "    ax[0].set_xlim(0, 1)\n",
        "    ax[0].set_ylim(-5.2, 5.2)\n",
        "    ax[0].set_xlabel(r\"$t\\ [s]$\", fontsize=FONT_SIZE)\n",
        "    ax[0].set_ylabel(r\"${\\rm Amplitude}$\", fontsize=FONT_SIZE)\n",
        "    ax[0].legend(fontsize=FONT_SIZE, loc='upper right')\n",
        "    ax[0].tick_params(labelsize=FONT_SIZE)\n",
        "    \n",
        "    Y = spfft.fft(y) / (SIZE/2)\n",
        "    freqList = spfft.fftfreq(SIZE, d=1.0/FS)\n",
        "    ax[1].plot(freqList[:SIZE//2], np.abs(Y[:SIZE//2]), label=rf\"$|Y(f)|$\")\n",
        "\n",
        "    \n",
        "    ax[1].set_xlim(0, 10)\n",
        "    ax[1].set_ylim(0, 5.5)\n",
        "    ax[1].set_xlabel(r\"${\\rm Frequency\\ [Hz]}$\", fontsize=FONT_SIZE)\n",
        "    ax[1].set_ylabel(r\"${\\rm Amplitude}$\", fontsize=FONT_SIZE)\n",
        "    ax[1].legend(fontsize=FONT_SIZE, loc='upper right')\n",
        "    ax[1].tick_params(labelsize=FONT_SIZE)\n",
        "\n",
        "    fig.align_labels()  \n",
        "    fig.tight_layout()\n",
        "\n",
        "interact(f, a=widgets.IntSlider(min=1, max=num-1, step=1, value=3, description='a: ', continuous_update=False) )"
      ],
      "metadata": {
        "id": "ezWRn8rkv_aB",
        "colab": {
          "base_uri": "https://localhost:8080/",
          "height": 490,
          "referenced_widgets": [
            "a1678dcf14804b5d82b1ee3e7986d195",
            "8362e86d824c41bc9d7ad58997764053",
            "8e566cbce23b43b49177848c7ec80cb3",
            "2dcd90486b3b4980a52dc6abec29b2a6",
            "5fe168caab32432fb0a945b8b4696477",
            "b57373e98dfd4c939ffc4a6b369f75f7",
            "634e058a3b8d4634b533693c5b008df2"
          ]
        },
        "outputId": "751922d1-0dd2-403e-9e91-c2ffa8e7cd62"
      },
      "execution_count": null,
      "outputs": [
        {
          "output_type": "display_data",
          "data": {
            "application/vnd.jupyter.widget-view+json": {
              "model_id": "a1678dcf14804b5d82b1ee3e7986d195",
              "version_minor": 0,
              "version_major": 2
            },
            "text/plain": [
              "interactive(children=(IntSlider(value=3, continuous_update=False, description='a: ', max=5, min=1), Output()),…"
            ]
          },
          "metadata": {}
        },
        {
          "output_type": "execute_result",
          "data": {
            "text/plain": [
              "<function __main__.f>"
            ]
          },
          "metadata": {},
          "execution_count": 22
        }
      ]
    },
    {
      "cell_type": "markdown",
      "source": [
        "# 位相の変更\n",
        "$\\theta$ の値を変えることで，位相スペクトルが上下に移動することが確認できる．"
      ],
      "metadata": {
        "id": "QFR1GghwgGuD"
      }
    },
    {
      "cell_type": "code",
      "source": [
        "from __future__ import unicode_literals\n",
        "import numpy as np\n",
        "import matplotlib\n",
        "matplotlib.rcParams['text.usetex'] = True\n",
        "import matplotlib.pyplot as plt\n",
        "from ipywidgets import interact\n",
        "\n",
        "num = 6\n",
        "\n",
        "def f(theta):\n",
        "    FONT_SIZE = 16\n",
        "    \n",
        "    FS = 200\n",
        "    SIZE = FS * 100\n",
        "    \n",
        "    t = np.arange(SIZE) / FS\n",
        "    y = np.cos(2 * np.pi * 2* t - theta)\n",
        "\n",
        "    fig, ax = plt.subplots(3, 1, figsize=(8, 9))\n",
        "    ax[0].plot(t, y, label=rf\"$\\displaystyle y= \\cos(2 \\pi \\cdot 2 t - \\theta)$\")\n",
        "\n",
        "    ax[0].set_xlim(0, 1)\n",
        "    ax[0].set_ylim(-1.2, 1.2)\n",
        "    ax[0].set_xlabel(r\"$t\\ [s]$\", fontsize=FONT_SIZE)\n",
        "    ax[0].set_ylabel(r\"${\\rm Amplitude}$\", fontsize=FONT_SIZE)\n",
        "    ax[0].legend(fontsize=FONT_SIZE, loc='upper right')\n",
        "    ax[0].tick_params(labelsize=FONT_SIZE)\n",
        "\n",
        "\n",
        "    Y = spfft.fft(y) / (SIZE/2)\n",
        "    freqList = spfft.fftfreq(SIZE, d=1.0/FS)\n",
        "    ax[1].plot(freqList[:SIZE//2], np.abs(Y[:SIZE//2]), label=rf\"$|Y(f)|$\")\n",
        "    \n",
        "    ax[1].set_xlim(0, 10)\n",
        "    ax[1].set_ylim(0, 1.2)\n",
        "    ax[1].set_xlabel(r\"${\\rm Frequency\\ [Hz]}$\", fontsize=FONT_SIZE)\n",
        "    ax[1].set_ylabel(r\"${\\rm Amplitude}$\", fontsize=FONT_SIZE)\n",
        "    ax[1].legend(fontsize=FONT_SIZE, loc='upper right')\n",
        "    ax[1].tick_params(labelsize=FONT_SIZE)\n",
        "\n",
        "    Y[np.abs(Y)<10**-10]=0\n",
        "    ax[2].plot(freqList[:SIZE//2], np.angle(Y[:SIZE//2]), label=rf\"$\\angle Y(f)$\")\n",
        "\n",
        "    ax[2].set_xlim(0, 10)\n",
        "    ax[2].set_ylim(-4, 4)\n",
        "    ax[2].set_xlabel(r\"${\\rm Frequency\\ [Hz]}$\", fontsize=FONT_SIZE)\n",
        "    ax[2].set_ylabel(r\"${\\rm Phase\\ [rad]}$\", fontsize=FONT_SIZE)\n",
        "    ax[2].legend(fontsize=FONT_SIZE, loc='upper right')\n",
        "    ax[2].tick_params(labelsize=FONT_SIZE)\n",
        "    ax[2].set_yticks([-np.pi, 0, np.pi]) \n",
        "    ax[2].set_yticklabels(['$-\\pi$', '0', '$\\pi$'])\n",
        "\n",
        "\n",
        "    fig.align_labels()  \n",
        "    fig.tight_layout()\n",
        "\n",
        "interact(f, theta=widgets.FloatSlider(min=-np.pi, max=np.pi, step=0.01, value=0, description='\\\\theta: ', continuous_update=False) )"
      ],
      "metadata": {
        "id": "z_gwloptAZWC",
        "colab": {
          "base_uri": "https://localhost:8080/",
          "height": 706,
          "referenced_widgets": [
            "0116c23db0f74e3c89effd499ba6da97",
            "554188203f014cb3b8b6327f39ab7f4e",
            "172c69d5ce524046b4ae54f8cb2db6de",
            "027ae080564949bcaeea41fbca89dbec",
            "73ebc96fe70547c88fbb9fe535a49475",
            "1efc49486a094adbb02ba5bf13bc4266",
            "a98df0c1cd8845d8925ab723ee8d4f0d"
          ]
        },
        "outputId": "3bd2dad2-fd15-44d8-96a9-ddcef75e7033"
      },
      "execution_count": null,
      "outputs": [
        {
          "output_type": "display_data",
          "data": {
            "application/vnd.jupyter.widget-view+json": {
              "model_id": "0116c23db0f74e3c89effd499ba6da97",
              "version_minor": 0,
              "version_major": 2
            },
            "text/plain": [
              "interactive(children=(FloatSlider(value=0.0, continuous_update=False, description='\\\\theta: ', max=3.141592653…"
            ]
          },
          "metadata": {}
        },
        {
          "output_type": "execute_result",
          "data": {
            "text/plain": [
              "<function __main__.f>"
            ]
          },
          "metadata": {},
          "execution_count": 25
        }
      ]
    },
    {
      "cell_type": "markdown",
      "source": [
        "# 2つの三角関数の和"
      ],
      "metadata": {
        "id": "KdGMD7dogRrn"
      }
    },
    {
      "cell_type": "code",
      "source": [
        "from ipywidgets import interactive\n",
        "\n",
        "def f(a1, a2, f1, f2):\n",
        "    FONT_SIZE = 16\n",
        "    \n",
        "    FS = 200\n",
        "    SIZE = FS * 100\n",
        "\n",
        "    t = np.arange(SIZE) / FS\n",
        "    y1 = a1 * np.sin(2 * np.pi * f1 * t)  \n",
        "    y2 = a2 * np.cos(2 * np.pi * f2 * t) \n",
        "    y  = y1 + y2\n",
        "\n",
        "    fig, ax = plt.subplots(2, 2, figsize=(16, 6))\n",
        "    ax[0][0].plot(t, y1, label=rf\"$\\displaystyle y_1=a_1 \\sin(2 \\pi f_1 t)$\")\n",
        "    ax[0][0].plot(t, y2, label=rf\"$\\displaystyle y_2=a_2 \\cos(2 \\pi f_2 t)$\")\n",
        "\n",
        "    ax[0][0].set_xlim(0, 1)\n",
        "    ax[0][0].set_ylim(-5.2, 5.2)\n",
        "    ax[0][0].set_xlabel(r\"$t\\ [s]$\", fontsize=16)\n",
        "    ax[0][0].set_ylabel(r\"${\\rm Amplitude}$\", fontsize=16)\n",
        "    ax[0][0].legend(fontsize=16, loc='upper right')\n",
        "    ax[0][0].tick_params(labelsize=16)\n",
        "\n",
        "    ax[0][1].plot(t, y, label=rf\"$\\displaystyle y=a_1 \\sin(2 \\pi f_1 t) + a_2 \\cos(2 \\pi f_2 t)$\")\n",
        "    \n",
        "    ax[0][1].set_xlim(0, 1)\n",
        "    ax[0][1].set_ylim(-5.2, 5.2)\n",
        "    ax[0][1].set_xlabel(r\"$t\\ [s]$\", fontsize=16)\n",
        "    ax[0][1].set_ylabel(r\"${\\rm Amplitude}$\", fontsize=16)\n",
        "    ax[0][1].legend(fontsize=16, loc='upper right')\n",
        "    ax[0][1].tick_params(labelsize=16)\n",
        "    \n",
        "    Y = spfft.fft(y*np.hanning(len(y))) / (SIZE/2)\n",
        "    freqList = spfft.fftfreq(SIZE, d=1.0/FS)\n",
        "    ax[1][0].plot(freqList[:SIZE//2], np.abs(Y[:SIZE//2]), label=rf\"$|Y(f)|$\")\n",
        "\n",
        "    \n",
        "    ax[1][0].set_xlim(0, 5)\n",
        "    ax[1][0].set_ylim(0, 5.5)\n",
        "    ax[1][0].set_xlabel(r\"${\\rm Frequency\\ [Hz]}$\", fontsize=16)\n",
        "    ax[1][0].set_ylabel(r\"${\\rm Amplitude}$\", fontsize=16)\n",
        "    ax[1][0].legend(fontsize=16, loc='upper right')\n",
        "    ax[1][0].tick_params(labelsize=16)\n",
        "\n",
        "    ax[1][1].axis('off')\n",
        "    \n",
        "    fig.align_labels()  \n",
        "    fig.tight_layout()\n",
        "\n",
        "\n",
        "interactive(f, a1=(-3.0, 3.0), a2=(-3.0, 3.0), f1=(1.0, 5.0), f2=(1.0, 5.0))"
      ],
      "metadata": {
        "id": "m7oFYXwTVg28",
        "colab": {
          "base_uri": "https://localhost:8080/",
          "height": 569,
          "referenced_widgets": [
            "9de286d283ed4c6b8b3470f62e60bc1b",
            "c9bd19fa13a74cfa826e760806d66e52",
            "9783d7a61d4343c2a1c737037fce4b9f",
            "d94fa2802a2a4f949381360858434d2f",
            "b5e78a0ffd4f438a8d0cbe926396f298",
            "54da7f6c837b4efe8bf2a4bd5845d410",
            "3c6129c2459b414a90a16bfa46f53f1b",
            "7f9f1b2521ad4de49611cdf8e3b2b1ee",
            "114985a47491403d9ce85cba8070c9e6",
            "1b4ba203e17a4421ac91bbaa1fe6045a",
            "ab8fa20476644d19879b77f2e5ecf6d8",
            "0b181e67282c410f9539b425631dd358",
            "639a43305e9343eb916775b377c85436",
            "8f6b26c6e9b047f58a6afb9cc11069d1",
            "9de816c5d8fd4c39b6b292fca922819f",
            "84ea6a0f54b34ab58794c71c16cc3413"
          ]
        },
        "outputId": "2028f2f2-d78f-4c4d-e10f-b6284c573ce9"
      },
      "execution_count": null,
      "outputs": [
        {
          "output_type": "display_data",
          "data": {
            "application/vnd.jupyter.widget-view+json": {
              "model_id": "9de286d283ed4c6b8b3470f62e60bc1b",
              "version_minor": 0,
              "version_major": 2
            },
            "text/plain": [
              "interactive(children=(FloatSlider(value=0.0, description='a1', max=3.0, min=-3.0), FloatSlider(value=0.0, desc…"
            ]
          },
          "metadata": {}
        }
      ]
    },
    {
      "cell_type": "code",
      "source": [
        ""
      ],
      "metadata": {
        "id": "ezgvKufW0rtW"
      },
      "execution_count": null,
      "outputs": []
    }
  ]
}